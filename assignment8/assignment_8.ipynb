{
 "cells": [
  {
   "cell_type": "markdown",
   "metadata": {},
   "source": [
    "  <img src=\"https://th.bing.com/th/id/R.3cd1c8dc996c5616cf6e65e20b6bf586?rik=09aaLyk4hfbBiQ&riu=http%3a%2f%2fcidics.uanl.mx%2fwp-content%2fuploads%2f2016%2f09%2fcimat.png&ehk=%2b0brgMUkA2BND22ixwLZheQrrOoYLO3o5cMRqsBOrlY%3d&risl=&pid=ImgRaw&r=0\" \n",
    "     style=\"float: right; margin-right: 30px;\" \n",
    "     width=\"120\"\n",
    "     />\n",
    "\n",
    " ---\n",
    " \n",
    " # **OPTIMIZACIÓN: TAREA 8**\n",
    " EZAU FARIDH TORRES TORRES.\n",
    "     \n",
    "<p align=\"right\"> Maestría en Ciencias con Orientación en Matemáticas Aplicadas. </p>\n",
    "<p align=\"right\"> CENTRO DE INVESTIGACIÓN EN MATEMÁTICAS. </p>\n",
    "\n",
    "---"
   ]
  },
  {
   "cell_type": "code",
   "execution_count": 1,
   "metadata": {},
   "outputs": [],
   "source": [
    "import numpy as np\n",
    "import matplotlib.pyplot as plt\n",
    "import seaborn as sns\n",
    "sns.set(style = \"dark\")\n",
    "\n",
    "def BACKTRAKING(alpha_i: float, p: float, c: float, \n",
    "                xk: np.array, f, fxk: np.array,\n",
    "                gradfxk: np.array, pk: np.array, Nb: int):\n",
    "    alpha = alpha_i\n",
    "    for i in range(Nb):\n",
    "        if f(xk + alpha*pk) <= fxk + c*alpha*(gradfxk.T)@pk:\n",
    "            return alpha, i\n",
    "        alpha = p*alpha\n",
    "    return alpha, Nb\n",
    "\n",
    "def f_Himmelblau(x: np.array):\n",
    "    return (x[0]**2 + x[1] - 11)**2 + (x[0] + x[1]**2 - 7)**2\n",
    "def grad_Himmelblau(x: np.array):\n",
    "    x1 = 4*x[0]*(x[0]**2 + x[1] - 11) + 2*(x[0] + x[1]**2 - 7)\n",
    "    x2 = 2*(x[0]**2 + x[1] - 11) + 4*x[1]*(x[0] + x[1]**2 - 7)\n",
    "    return np.array([x1,x2], dtype = float)\n",
    "def Hess_Himmelblau(x: np.array):\n",
    "    x11 = 12*x[0]**2 + 4*x[1] - 42\n",
    "    x12 = 4*x[0] + 4*x[1]\n",
    "    x22 = 4*x[0] + 12*x[1]**2 - 26\n",
    "    return np.array([[x11, x12], [x12, x22]], dtype = float)\n",
    "\n",
    "def f_Beale(x: np.array):\n",
    "    return (1.5 - x[0] + x[0]*x[1])**2 + (2.25 - x[0] + x[0]*x[1]**2)**2 + (2.625 - x[0] + x[0]*x[1]**3)**2\n",
    "def grad_Beale(x: np.array):\n",
    "    x1 = 2*(x[1] - 1)*(1.5 - x[0] + x[0]*x[1]) + 2*(x[1]**2 - 1)*(2.25 - x[0] + x[0]*x[1]**2) + 2*(x[1]**3 - 1)*(2.625 - x[0] + x[0]*x[1]**3)\n",
    "    x2 = 2*x[0]*(1.5 - x[0] + x[0]*x[1]) + 4*x[0]*x[1]*(2.25 - x[0] + x[0]*x[1]**2) + 6*x[0]*(x[1]**2)*(2.625 - x[0] + x[0]*x[1]**3)\n",
    "    return np.array([x1,x2], dtype = float)\n",
    "def Hess_Beale(x: np.array):\n",
    "    x11 = 2*(x[1]**3 - 1)**2 + 2*(x[1]**2 - 1)**2 + 2*(x[1] - 1)**2\n",
    "    x12 = 4*x[0]*x[1]*(x[1]**2 - 1) + 4*x[1]*(x[0]*x[1]**2 - x[0]+2.25) + 6*x[0]*x[1]**2*(x[1]**3 - 1) + 6*x[1]**2*(x[0]*x[1]**3 - x[0]+2.625) + 2*x[0]*(x[1]-1) + 2*(x[0]*x[1] - x[0]+1.5)\n",
    "    x22 = 18*x[0]**2*x[1]**4 + 8*x[0]**2*x[1]**2 + 2*x[0]**2 + 12*x[0]*x[1]*(x[0]*x[1]**3 - x[0] + 2.625) + 4*x[0]*(x[0]*x[1]**2 - x[0]+2.25)\n",
    "    return np.array([[x11, x12], [x12, x22]], dtype = float)\n",
    "\n",
    "def f_Rosenbrock(x: np.array):\n",
    "    n = len(x)\n",
    "    s = 0\n",
    "    for i in range(n-1):\n",
    "        s = s + 100*(x[i+1] - x[i]**2)**2 + (1 - x[i])**2\n",
    "    return s\n",
    "def grad_Rosenbrock(x: np.array):\n",
    "    n = len(x)\n",
    "    grad = np.zeros(n)\n",
    "    grad[0] = -400*x[0]*(x[1] - x[0]**2) - 2*(1-x[0])\n",
    "    grad[n-1] = 200*(x[n-1] - x[n-2]**2)\n",
    "    for j in range(1,n-1):\n",
    "        grad[j] = 200*(x[j]-x[j-1]**2) - 400*x[j]*(x[j+1] - x[j]**2) - 2*(1-x[j])\n",
    "    return np.array(grad, dtype = float)\n",
    "def Hess_Rosenbrock(x: np.array):\n",
    "    n = len(x)\n",
    "    Hess = np.zeros((n,n))\n",
    "    Hess[0,0] = -400*(x[1]-x[0]**2) + 800*x[0]**2 + 2\n",
    "    Hess[1,0] = -400*x[0]\n",
    "    Hess[n-2,n-1] = -400*x[n-2]\n",
    "    Hess[n-1,n-1] = 200\n",
    "    for j in range(1,n-1):\n",
    "        Hess[j-1,j] = -400*x[j-1]\n",
    "        Hess[j,j] = -400*(x[j+1]-x[j]**2) +800*x[j]**2 + 202\n",
    "        Hess[j+1,j] = -400*x[j]\n",
    "    return np.array(Hess, dtype = float)"
   ]
  },
  {
   "cell_type": "markdown",
   "metadata": {},
   "source": [
    "---\n",
    "\n",
    "# **1.- EJERCICIO 1:**\n",
    "\n",
    "---\n",
    "\n",
    "Programar el método de BFGS modificado descrito en el Algoritmo 2 de la Clase 23.\n",
    "\n",
    "## **1.1.**\n",
    "Programe la función que implementa el algoritmo. Debe recibir como parámetros\n",
    "- El punto inicial $\\mathbf{x}_0$\n",
    "- La matriz $\\mathbf{H}_0$\n",
    "- La función $f$\n",
    "- El gradiente $\\nabla f(\\mathbf{x})$\n",
    "- La tolerancia $\\tau$\n",
    "- El número máximo de iteraciones $N$\n",
    "- Los paramétros $\\rho, c_1, N_b$ del algoritmo de backtracking"
   ]
  },
  {
   "cell_type": "code",
   "execution_count": 2,
   "metadata": {},
   "outputs": [],
   "source": [
    "def BFGS_MOD(f, gradf, xk: np.array, tol: float, Hk: np.array,\n",
    "             N: int, alpha_i, p: float, c: float, Nb: int):\n",
    "    \"\"\"\n",
    "    BFGS METHOD WITH MODIFICATION FOR THE HESSIAN MATRIX.\n",
    "\n",
    "    Args:\n",
    "    - f:       function to minimize.\n",
    "    - gradf:   gradient of the function.\n",
    "    - xk:      initial point.\n",
    "    - tol:     tolerance.\n",
    "    - Hk:      initial Hessian matrix.\n",
    "    - N:       maximum number of iterations.\n",
    "    - alpha_i: initial step size.\n",
    "    - p:       reduction factor for the step size.\n",
    "    - c:       constant for the Armijo condition.\n",
    "    - Nb:      maximum number of iterations for the backtracking line search.\n",
    "\n",
    "    Returns:\n",
    "    - xk:  optimal point.\n",
    "    - gk:  gradient at the optimal point.\n",
    "    - k:   number of iterations.\n",
    "    - T/F: if the method converged.\n",
    "    \"\"\"\n",
    "    n = len(xk)\n",
    "    for k in range(N-1):\n",
    "        gk = gradf(xk)\n",
    "        if np.linalg.norm(gk) < tol:\n",
    "            return xk, gk, k, True\n",
    "        pk = - Hk @ gk\n",
    "        if pk.T @ gk > 0:\n",
    "            lb1 = 10**(-5) + (pk.T @ gk)/(gk.T @ gk)\n",
    "            Hk = Hk + lb1*np.eye(n)\n",
    "            pk = pk - lb1*gk\n",
    "        ak = BACKTRAKING(alpha_i = alpha_i, p = p, c = c, xk = xk, f = f,\n",
    "                        fxk = f(xk), gradfxk = gk, pk = pk, Nb = Nb)[0]\n",
    "        xk_n = xk + ak * pk\n",
    "        gk_n = gradf(xk_n)\n",
    "        sk = xk_n - xk\n",
    "        yk = gk_n - gk\n",
    "        if yk.T @ sk <= 0:\n",
    "            lb2 = 10**(-5) - (yk.T @ sk)/(yk.T @ yk)\n",
    "            Hk = Hk + lb2*np.eye(n)\n",
    "        else:\n",
    "            rhok = 1/(yk.T @ sk)\n",
    "            Hk = (np.eye(n) - rhok*np.outer(sk,yk)) @ Hk @ (np.eye(n) - rhok*np.outer(yk,sk)) + rhok*np.outer(sk,sk)\n",
    "        xk = xk_n\n",
    "    return xk, gk, N, False"
   ]
  },
  {
   "cell_type": "markdown",
   "metadata": {},
   "source": [
    "## **1.2.**\n",
    "Pruebe el algoritmo para minimizar las siguientes funciones usando los parámetros\n",
    "   $N=5000$, $\\tau = \\sqrt{n}\\epsilon_m^{1/3}$, donde $n$ es la dimensión\n",
    "   de la variable $\\mathbf{x}$, $\\mathbf{H}_0$ como la matriz identidad \n",
    "   y $\\epsilon_m$ es el épsilon máquina. \n",
    "   Para backtracking use $\\rho=0.5$, $c_1=0.001$ y el número máximo de iteraciones $N_b=500$.\n",
    "   \n",
    "   En cada caso imprima los siguientes datos:\n",
    "   \n",
    "- la dimensión $n$,\n",
    "- $f(\\mathbf{x}_0)$,\n",
    "- el  número $k$ de iteraciones realizadas,\n",
    "- $f(\\mathbf{x}_k)$,\n",
    "- las primeras y últimas 4 entradas del punto $\\mathbf{x}_k$ que devuelve el algoritmo,\n",
    "- la norma del vector gradiente $\\mathbf{g}_k$, \n",
    "- la variable $res$ que indica si el algoritmo terminó porque se cumplió el\n",
    "  criterio de la tolerancia o terminó por iteraciones."
   ]
  },
  {
   "cell_type": "code",
   "execution_count": 3,
   "metadata": {},
   "outputs": [],
   "source": [
    "eps = np.finfo(float).eps\n",
    "N = 5000\n",
    "p = 0.5\n",
    "c = 0.001\n",
    "Nb = 500\n",
    "alpha_i = 1"
   ]
  },
  {
   "cell_type": "markdown",
   "metadata": {},
   "source": [
    "---\n",
    "\n",
    "**Función de cuadrática 1:** Para $\\mathbf{x}=(x_1,x_2, ..., x_n)$\n",
    "\n",
    "- $f(\\mathbf{x}) = \\frac{1}{2} \\mathbf{x}^\\top\\mathbf{A}_1\\mathbf{x} - \\mathbf{b}_1^\\top\\mathbf{x}$,\n",
    "  donde $\\mathbf{A}_1$ y $\\mathbf{b}_1$ están definidas por\n",
    "  \n",
    "\n",
    "$$ \\mathbf{A}_1 = n\\mathbf{I} + \\mathbf{1} = \n",
    "\\left[\\begin{array}{llll} n      & 0      & \\cdots & 0 \\\\\n",
    "                       0      & n      & \\cdots & 0 \\\\ \n",
    "                       \\vdots & \\vdots & \\ddots & \\vdots \\\\\n",
    "                       0      & 0      & \\cdots & n \\end{array}\\right]\n",
    "+ \\left[\\begin{array}{llll} 1    & 1      & \\cdots & 1 \\\\\n",
    "                       1      & 1      & \\cdots & 1 \\\\ \n",
    "                       \\vdots & \\vdots & \\ddots & \\vdots \\\\\n",
    "                       1      & 1      & \\cdots & 1 \\end{array}\\right],  \\qquad\n",
    "\\mathbf{b}_1 = \\left[\\begin{array}{l} 1 \\\\ 1 \\\\ \\vdots \\\\ 1 \\end{array}\\right], $$\n",
    "\n",
    "donde $\\mathbf{I}$ es la matriz identidad y $\\mathbf{1}$ es la matriz llena de 1's,\n",
    "ambas de tamaño $n$, usando los puntos iniciales   \n",
    "- $\\mathbf{x}_0 = (0,...,0)\\in \\mathbb{R}^{10}$ \n",
    "- $\\mathbf{x}_0 = (0,...,0)\\in \\mathbb{R}^{100}$ \n",
    "- $\\mathbf{x}_0 = (0,...,0)\\in \\mathbb{R}^{1000}$"
   ]
  },
  {
   "cell_type": "code",
   "execution_count": 4,
   "metadata": {},
   "outputs": [
    {
     "name": "stdout",
     "output_type": "stream",
     "text": [
      "DIMENSION:    10\n",
      "f(x0):        0.0\n",
      "ITERACIONES:  2\n",
      "f(xk):        -0.25\n",
      "xk:           [0.05 0.05 0.05 0.05] ... [0.05 0.05 0.05 0.05]\n",
      "||gk||:       1.041481514324134e-15\n",
      "CONVERGENCIA: True\n"
     ]
    }
   ],
   "source": [
    "n = 10\n",
    "A1 = n*np.eye(n, dtype = float) + np.ones([n,n], dtype = float)\n",
    "b1 = np.ones(n, dtype = float)\n",
    "f_cuad = lambda x: 0.5 * x.T @ A1 @ x - b1.T @ x\n",
    "gradf_cuad = lambda x: A1 @ x - b1\n",
    "x0 = np.zeros(n, dtype = float)\n",
    "tol = np.sqrt(n)*eps**(1/3)\n",
    "H0 = np.eye(n)\n",
    "xk, gk, k, RES = BFGS_MOD(f = f_cuad, gradf = gradf_cuad, xk = x0, tol = tol, Hk = H0,\n",
    "                          N = N, alpha_i = alpha_i, p = p, c = c, Nb = Nb)\n",
    "print(\"DIMENSION:   \", n)\n",
    "print(\"f(x0):       \", f_cuad(x0))\n",
    "print(\"ITERACIONES: \", k)\n",
    "print(\"f(xk):       \", f_cuad(xk))\n",
    "print(\"xk:          \", xk[:4], \"...\", xk[-4:])\n",
    "print(\"||gk||:      \", np.linalg.norm(gk))\n",
    "print(\"CONVERGENCIA:\", RES)"
   ]
  },
  {
   "cell_type": "code",
   "execution_count": 5,
   "metadata": {},
   "outputs": [
    {
     "name": "stdout",
     "output_type": "stream",
     "text": [
      "DIMENSION:    100\n",
      "f(x0):        0.0\n",
      "ITERACIONES:  2\n",
      "f(xk):        -0.2499999999999999\n",
      "xk:           [0.005 0.005 0.005 0.005] ... [0.005 0.005 0.005 0.005]\n",
      "||gk||:       3.225767447537171e-12\n",
      "CONVERGENCIA: True\n"
     ]
    }
   ],
   "source": [
    "n = 100\n",
    "A1 = n*np.eye(n, dtype = float) + np.ones([n,n], dtype = float)\n",
    "b1 = np.ones(n, dtype = float)\n",
    "f_cuad = lambda x: 0.5 * x.T @ A1 @ x - b1.T @ x\n",
    "gradf_cuad = lambda x: A1 @ x - b1\n",
    "x0 = np.zeros(n, dtype = float)\n",
    "tol = np.sqrt(n)*eps**(1/3)\n",
    "H0 = np.eye(n)\n",
    "xk, gk, k, RES = BFGS_MOD(f = f_cuad, gradf = gradf_cuad, xk = x0, tol = tol, Hk = H0,\n",
    "                          N = N, alpha_i = alpha_i, p = p, c = c, Nb = Nb)\n",
    "print(\"DIMENSION:   \", n)\n",
    "print(\"f(x0):       \", f_cuad(x0))\n",
    "print(\"ITERACIONES: \", k)\n",
    "print(\"f(xk):       \", f_cuad(xk))\n",
    "print(\"xk:          \", xk[:4], \"...\", xk[-4:])\n",
    "print(\"||gk||:      \", np.linalg.norm(gk))\n",
    "print(\"CONVERGENCIA:\", RES)"
   ]
  },
  {
   "cell_type": "code",
   "execution_count": 6,
   "metadata": {},
   "outputs": [
    {
     "name": "stdout",
     "output_type": "stream",
     "text": [
      "DIMENSION:    1000\n",
      "f(x0):        0.0\n",
      "ITERACIONES:  2\n",
      "f(xk):        -0.24999999999999845\n",
      "xk:           [0.0005 0.0005 0.0005 0.0005] ... [0.0005 0.0005 0.0005 0.0005]\n",
      "||gk||:       2.902695606392848e-10\n",
      "CONVERGENCIA: True\n"
     ]
    }
   ],
   "source": [
    "n = 1000\n",
    "A1 = n*np.eye(n, dtype = float) + np.ones([n,n], dtype = float)\n",
    "b1 = np.ones(n, dtype = float)\n",
    "f_cuad = lambda x: 0.5 * x.T @ A1 @ x - b1.T @ x\n",
    "gradf_cuad = lambda x: A1 @ x - b1\n",
    "x0 = np.zeros(n, dtype = float)\n",
    "tol = np.sqrt(n)*eps**(1/3)\n",
    "H0 = np.eye(n)\n",
    "xk, gk, k, RES = BFGS_MOD(f = f_cuad, gradf = gradf_cuad, xk = x0, tol = tol, Hk = H0,\n",
    "                          N = N, alpha_i = alpha_i, p = p, c = c, Nb = Nb)\n",
    "print(\"DIMENSION:   \", n)\n",
    "print(\"f(x0):       \", f_cuad(x0))\n",
    "print(\"ITERACIONES: \", k)\n",
    "print(\"f(xk):       \", f_cuad(xk))\n",
    "print(\"xk:          \", xk[:4], \"...\", xk[-4:])\n",
    "print(\"||gk||:      \", np.linalg.norm(gk))\n",
    "print(\"CONVERGENCIA:\", RES)"
   ]
  },
  {
   "cell_type": "markdown",
   "metadata": {},
   "source": [
    "---\n",
    "\n",
    "**Función de cuadrática 2:** Para $\\mathbf{x}=(x_1,x_2, ..., x_n)$\n",
    "\n",
    "- $f(\\mathbf{x}) = \\frac{1}{2} \\mathbf{x}^\\top\\mathbf{A}_2\\mathbf{x} - \\mathbf{b}_2^\\top\\mathbf{x}$,\n",
    "  donde $\\mathbf{A}_2= [a_{ij}]$ y $\\mathbf{b}_2$ están definidas por\n",
    "  \n",
    "$$ a_{ij} = exp\\left(-0.25(i-j)^2 \\right),  \\qquad\n",
    "\\mathbf{b}_2 = \\left[\\begin{array}{l} 1 \\\\ 1 \\\\ \\vdots \\\\ 1 \\end{array}\\right] $$\n",
    "\n",
    "usando los puntos iniciales:\n",
    "- $\\mathbf{x}_0 = (0,...,0)\\in \\mathbb{R}^{10}$ \n",
    "- $\\mathbf{x}_0 = (0,...,0)\\in \\mathbb{R}^{100}$ \n",
    "- $\\mathbf{x}_0 = (0,...,0)\\in \\mathbb{R}^{1000}$ "
   ]
  },
  {
   "cell_type": "code",
   "execution_count": 7,
   "metadata": {},
   "outputs": [
    {
     "name": "stdout",
     "output_type": "stream",
     "text": [
      "DIMENSION:    10\n",
      "f(x0):        0.0\n",
      "ITERACIONES:  18\n",
      "f(xk):        -1.7934208025210774\n",
      "xk:           [ 1.36910165 -1.16637731  1.60908339 -0.61339229] ... [-0.61339229  1.60908339 -1.16637731  1.36910165]\n",
      "||gk||:       3.6453605641428233e-06\n",
      "CONVERGENCIA: True\n"
     ]
    }
   ],
   "source": [
    "n = 10\n",
    "A2 = np.zeros((n,n), dtype = float)\n",
    "for i in range(n):\n",
    "    for j in range(n):\n",
    "        A2[i,j] = np.exp(-0.25*(i-j)**2)\n",
    "b2 = np.ones(n, dtype = float)\n",
    "f_cuad = lambda x: 0.5 * x.T @ A2 @ x - b2.T @ x\n",
    "gradf_cuad = lambda x: A2 @ x - b2\n",
    "x0 = np.zeros(n, dtype = float)\n",
    "tol = np.sqrt(n)*eps**(1/3)\n",
    "H0 = np.eye(n)\n",
    "xk, gk, k, RES = BFGS_MOD(f = f_cuad, gradf = gradf_cuad, xk = x0, tol = tol, Hk = H0,\n",
    "                          N = N, alpha_i = alpha_i, p = p, c = c, Nb = Nb)\n",
    "print(\"DIMENSION:   \", n)\n",
    "print(\"f(x0):       \", f_cuad(x0))\n",
    "print(\"ITERACIONES: \", k)\n",
    "print(\"f(xk):       \", f_cuad(xk))\n",
    "print(\"xk:          \", xk[:4], \"...\", xk[-4:])\n",
    "print(\"||gk||:      \", np.linalg.norm(gk))\n",
    "print(\"CONVERGENCIA:\", RES)"
   ]
  },
  {
   "cell_type": "code",
   "execution_count": 8,
   "metadata": {},
   "outputs": [
    {
     "name": "stdout",
     "output_type": "stream",
     "text": [
      "DIMENSION:    100\n",
      "f(x0):        0.0\n",
      "ITERACIONES:  139\n",
      "f(xk):        -14.494330069283096\n",
      "xk:           [ 1.44628123 -1.41633442  2.11047122 -1.42499584] ... [-1.4249928   2.11047032 -1.41633792  1.44628086]\n",
      "||gk||:       5.05688281168634e-05\n",
      "CONVERGENCIA: True\n"
     ]
    }
   ],
   "source": [
    "n = 100\n",
    "A2 = np.zeros((n,n), dtype = float)\n",
    "for i in range(n):\n",
    "    for j in range(n):\n",
    "        A2[i,j] = np.exp(-0.25*(i-j)**2)\n",
    "b2 = np.ones(n, dtype = float)\n",
    "f_cuad = lambda x: 0.5 * x.T @ A2 @ x - b2.T @ x\n",
    "gradf_cuad = lambda x: A2 @ x - b2\n",
    "x0 = np.zeros(n, dtype = float)\n",
    "tol = np.sqrt(n)*eps**(1/3)\n",
    "H0 = np.eye(n)\n",
    "xk, gk, k, RES = BFGS_MOD(f = f_cuad, gradf = gradf_cuad, xk = x0, tol = tol, Hk = H0,\n",
    "                          N = N, alpha_i = alpha_i, p = p, c = c, Nb = Nb)\n",
    "print(\"DIMENSION:   \", n)\n",
    "print(\"f(x0):       \", f_cuad(x0))\n",
    "print(\"ITERACIONES: \", k)\n",
    "print(\"f(xk):       \", f_cuad(xk))\n",
    "print(\"xk:          \", xk[:4], \"...\", xk[-4:])\n",
    "print(\"||gk||:      \", np.linalg.norm(gk))\n",
    "print(\"CONVERGENCIA:\", RES)"
   ]
  },
  {
   "cell_type": "code",
   "execution_count": 9,
   "metadata": {},
   "outputs": [
    {
     "name": "stdout",
     "output_type": "stream",
     "text": [
      "DIMENSION:    1000\n",
      "f(x0):        0.0\n",
      "ITERACIONES:  257\n",
      "f(xk):        -141.43698680561425\n",
      "xk:           [ 1.44628094 -1.41635864  2.11049968 -1.42504235] ... [-1.42504235  2.11049968 -1.41635864  1.44628094]\n",
      "||gk||:       0.00018789741226501192\n",
      "CONVERGENCIA: True\n"
     ]
    }
   ],
   "source": [
    "n = 1000\n",
    "A2 = np.zeros((n,n), dtype = float)\n",
    "for i in range(n):\n",
    "    for j in range(n):\n",
    "        A2[i,j] = np.exp(-0.25*(i-j)**2)\n",
    "b2 = np.ones(n, dtype = float)\n",
    "f_cuad = lambda x: 0.5 * x.T @ A2 @ x - b2.T @ x\n",
    "gradf_cuad = lambda x: A2 @ x - b2\n",
    "x0 = np.zeros(n, dtype = float)\n",
    "tol = np.sqrt(n)*eps**(1/3)\n",
    "H0 = np.eye(n)\n",
    "xk, gk, k, RES = BFGS_MOD(f = f_cuad, gradf = gradf_cuad, xk = x0, tol = tol, Hk = H0,\n",
    "                          N = N, alpha_i = alpha_i, p = p, c = c, Nb = Nb)\n",
    "print(\"DIMENSION:   \", n)\n",
    "print(\"f(x0):       \", f_cuad(x0))\n",
    "print(\"ITERACIONES: \", k)\n",
    "print(\"f(xk):       \", f_cuad(xk))\n",
    "print(\"xk:          \", xk[:4], \"...\", xk[-4:])\n",
    "print(\"||gk||:      \", np.linalg.norm(gk))\n",
    "print(\"CONVERGENCIA:\", RES)"
   ]
  },
  {
   "cell_type": "markdown",
   "metadata": {},
   "source": [
    "---\n",
    "\n",
    "**Función de Beale :** Para $\\mathbf{x}=(x_1,x_2)$\n",
    "\n",
    "$$f(\\mathbf{x}) = (1.5-x_1 + x_1x_2)^2 + (2.25 - x_1 + x_1x_2^2)^2 + (2.625 - x_1 + x_1x_2^3)^2.$$\n",
    "- $\\mathbf{x}_0 = (2,3)$  "
   ]
  },
  {
   "cell_type": "code",
   "execution_count": 10,
   "metadata": {},
   "outputs": [
    {
     "name": "stdout",
     "output_type": "stream",
     "text": [
      "DIMENSION:   "
     ]
    },
    {
     "name": "stderr",
     "output_type": "stream",
     "text": [
      "/var/folders/_h/2wf1t3v96t99m5n9pzmlm9pm0000gn/T/ipykernel_1317/2848653580.py:41: RuntimeWarning: invalid value encountered in scalar divide\n",
      "  lb2 = 10**(-5) - (yk.T @ sk)/(yk.T @ yk)\n"
     ]
    },
    {
     "name": "stdout",
     "output_type": "stream",
     "text": [
      " 2\n",
      "f(x0):        3347.203125\n",
      "ITERACIONES:  5000\n",
      "f(xk):        nan\n",
      "xk:           [nan nan]\n",
      "||gk||:       nan\n",
      "CONVERGENCIA: False\n"
     ]
    }
   ],
   "source": [
    "x0 = np.array([2,3], dtype = float)\n",
    "n = len(x0)\n",
    "H0 = np.eye(n)\n",
    "tol = np.sqrt(n)*eps**(1/3)\n",
    "xk, gk, k, RES = BFGS_MOD(f = f_Beale, gradf = grad_Beale, xk = x0, tol = tol, Hk = H0,\n",
    "                          N = N, alpha_i = alpha_i, p = p, c = c, Nb = Nb)\n",
    "print(\"DIMENSION:   \", n)\n",
    "print(\"f(x0):       \", f_Beale(x0))\n",
    "print(\"ITERACIONES: \", k)\n",
    "print(\"f(xk):       \", f_Beale(xk))\n",
    "print(\"xk:          \", xk)\n",
    "print(\"||gk||:      \", np.linalg.norm(gk))\n",
    "print(\"CONVERGENCIA:\", RES)"
   ]
  },
  {
   "cell_type": "markdown",
   "metadata": {},
   "source": [
    "---\n",
    "\n",
    "**Función de Himmelblau:** Para $\\mathbf{x}=(x_1,x_2)$\n",
    "\n",
    "$$f(\\mathbf{x}) = (x_1^2 + x_2 - 11)^2 + (x_1 + x_2^2 - 7)^2. $$\n",
    "- $\\mathbf{x}_0 = (2,4)$"
   ]
  },
  {
   "cell_type": "code",
   "execution_count": 11,
   "metadata": {},
   "outputs": [
    {
     "name": "stdout",
     "output_type": "stream",
     "text": [
      "DIMENSION:    2\n",
      "f(x0):        130.0\n",
      "ITERACIONES:  10\n",
      "f(xk):        9.834452856641356e-16\n",
      "xk:           [ 3.58442834 -1.84812653]\n",
      "||gk||:       3.8589289437020564e-07\n",
      "CONVERGENCIA: True\n"
     ]
    }
   ],
   "source": [
    "x0 = np.array([2,4], dtype = float)\n",
    "n = len(x0)\n",
    "H0 = np.eye(n)\n",
    "tol = np.sqrt(n)*eps**(1/3)\n",
    "xk, gk, k, RES = BFGS_MOD(f = f_Himmelblau, gradf = grad_Himmelblau, xk = x0, tol = tol,\n",
    "                          Hk = H0, N = N, alpha_i = alpha_i, p = p, c = c, Nb = Nb)\n",
    "print(\"DIMENSION:   \", n)\n",
    "print(\"f(x0):       \", f_Himmelblau(x0))\n",
    "print(\"ITERACIONES: \", k)\n",
    "print(\"f(xk):       \", f_Himmelblau(xk))\n",
    "print(\"xk:          \", xk)\n",
    "print(\"||gk||:      \", np.linalg.norm(gk))\n",
    "print(\"CONVERGENCIA:\", RES)"
   ]
  },
  {
   "cell_type": "markdown",
   "metadata": {},
   "source": [
    "---\n",
    "\n",
    "**Función de Rosenbrock:** Para $\\mathbf{x}=(x_1,x_2, ..., x_n)$\n",
    "\n",
    "$$ f(\\mathbf{x}) = \\sum_{i=1}^{n-1} \\left[100(x_{i+1} - x_i^2)^2 + (1-x_i)^2 \\right]\n",
    "\\quad n\\geq 2.$$\n",
    "- $\\mathbf{x}_0 = (-1.2, 1.0)\\in \\mathbb{R}^{2}$  \n",
    "- $\\mathbf{x}_0 = (-1.2, 1.0, ..., -1.2, 1.0) \\in \\mathbb{R}^{20}$  \n",
    "- $\\mathbf{x}_0 = (-1.2, 1.0, ..., -1.2, 1.0) \\in \\mathbb{R}^{40}$ "
   ]
  },
  {
   "cell_type": "code",
   "execution_count": 12,
   "metadata": {},
   "outputs": [
    {
     "name": "stdout",
     "output_type": "stream",
     "text": [
      "DIMENSION:    2\n",
      "f(x0):        24.199999999999996\n",
      "ITERACIONES:  34\n",
      "f(xk):        2.745636868826416e-17\n",
      "xk:           [1.         0.99999999]\n",
      "||gk||:       8.834628308482201e-08\n",
      "CONVERGENCIA: True\n"
     ]
    }
   ],
   "source": [
    "x0 = np.array([-1.2, 1.0], dtype = float)\n",
    "n = len(x0)\n",
    "H0 = np.eye(n)\n",
    "tol = np.sqrt(n)*eps**(1/3)\n",
    "xk, gk, k, RES = BFGS_MOD(f = f_Rosenbrock, gradf = grad_Rosenbrock, xk = x0, tol = tol,\n",
    "                          Hk = H0, N = N, alpha_i = alpha_i, p = p, c = c, Nb = Nb)\n",
    "print(\"DIMENSION:   \", n)\n",
    "print(\"f(x0):       \", f_Rosenbrock(x0))\n",
    "print(\"ITERACIONES: \", k)\n",
    "print(\"f(xk):       \", f_Rosenbrock(xk))\n",
    "print(\"xk:          \", xk)\n",
    "print(\"||gk||:      \", np.linalg.norm(gk))\n",
    "print(\"CONVERGENCIA:\", RES)"
   ]
  },
  {
   "cell_type": "code",
   "execution_count": 13,
   "metadata": {},
   "outputs": [
    {
     "name": "stdout",
     "output_type": "stream",
     "text": [
      "DIMENSION:    20\n",
      "f(x0):        4598.000000000001\n",
      "ITERACIONES:  128\n",
      "f(xk):        2.304160307156283e-14\n",
      "xk:           [1. 1. 1. 1.] ... [0.99999999 0.99999997 0.99999995 0.99999991]\n",
      "||gk||:       5.657759584151205e-06\n",
      "CONVERGENCIA: True\n"
     ]
    }
   ],
   "source": [
    "x0 = np.array([-1.2, 1.0, -1.2, 1.0, -1.2, 1.0, -1.2, 1.0, -1.2, 1.0, -1.2, 1.0, -1.2, 1.0, -1.2, 1.0, -1.2, 1.0, -1.2, 1.0], dtype = float)\n",
    "n = len(x0)\n",
    "H0 = np.eye(n)\n",
    "tol = np.sqrt(n)*eps**(1/3)\n",
    "xk, gk, k, RES = BFGS_MOD(f = f_Rosenbrock, gradf = grad_Rosenbrock, xk = x0, tol = tol,\n",
    "                          Hk = H0, N = N, alpha_i = alpha_i, p = p, c = c, Nb = Nb)\n",
    "print(\"DIMENSION:   \", n)\n",
    "print(\"f(x0):       \", f_Rosenbrock(x0))\n",
    "print(\"ITERACIONES: \", k)\n",
    "print(\"f(xk):       \", f_Rosenbrock(xk))\n",
    "print(\"xk:          \", xk[:4], \"...\", xk[-4:])\n",
    "print(\"||gk||:      \", np.linalg.norm(gk))\n",
    "print(\"CONVERGENCIA:\", RES)"
   ]
  },
  {
   "cell_type": "code",
   "execution_count": 14,
   "metadata": {},
   "outputs": [
    {
     "name": "stdout",
     "output_type": "stream",
     "text": [
      "DIMENSION:    40\n",
      "f(x0):        9680.000000000002\n",
      "ITERACIONES:  223\n",
      "f(xk):        4.085288272310319e-13\n",
      "xk:           [1.00000001 1.00000001 1.         1.        ] ... [1.00000001 1.00000004 1.0000001  1.0000002 ]\n",
      "||gk||:       2.9394848599856312e-05\n",
      "CONVERGENCIA: True\n"
     ]
    }
   ],
   "source": [
    "x0 = np.array([-1.2, 1.0, -1.2, 1.0, -1.2, 1.0, -1.2, 1.0, -1.2, 1.0, -1.2, 1.0, -1.2, 1.0, -1.2, 1.0, -1.2, 1.0, -1.2, 1.0, -1.2, 1.0, -1.2, 1.0, -1.2, 1.0, -1.2, 1.0, -1.2, 1.0, -1.2, 1.0, -1.2, 1.0, -1.2, 1.0, -1.2, 1.0, -1.2, 1.0], dtype = float)\n",
    "n = len(x0)\n",
    "H0 = np.eye(n)\n",
    "tol = np.sqrt(n)*eps**(1/3)\n",
    "xk, gk, k, RES = BFGS_MOD(f = f_Rosenbrock, gradf = grad_Rosenbrock, xk = x0, tol = tol,\n",
    "                          Hk = H0, N = N, alpha_i = alpha_i, p = p, c = c, Nb = Nb)\n",
    "print(\"DIMENSION:   \", n)\n",
    "print(\"f(x0):       \", f_Rosenbrock(x0))\n",
    "print(\"ITERACIONES: \", k)\n",
    "print(\"f(xk):       \", f_Rosenbrock(xk))\n",
    "print(\"xk:          \", xk[:4], \"...\", xk[-4:])\n",
    "print(\"||gk||:      \", np.linalg.norm(gk))\n",
    "print(\"CONVERGENCIA:\", RES)"
   ]
  }
 ],
 "metadata": {
  "kernelspec": {
   "display_name": "Python 3",
   "language": "python",
   "name": "python3"
  },
  "language_info": {
   "codemirror_mode": {
    "name": "ipython",
    "version": 3
   },
   "file_extension": ".py",
   "mimetype": "text/x-python",
   "name": "python",
   "nbconvert_exporter": "python",
   "pygments_lexer": "ipython3",
   "version": "3.11.9"
  }
 },
 "nbformat": 4,
 "nbformat_minor": 2
}

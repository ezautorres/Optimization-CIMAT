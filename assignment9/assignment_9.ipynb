{
 "cells": [
  {
   "cell_type": "markdown",
   "metadata": {},
   "source": [
    "  <img src=\"https://th.bing.com/th/id/R.3cd1c8dc996c5616cf6e65e20b6bf586?rik=09aaLyk4hfbBiQ&riu=http%3a%2f%2fcidics.uanl.mx%2fwp-content%2fuploads%2f2016%2f09%2fcimat.png&ehk=%2b0brgMUkA2BND22ixwLZheQrrOoYLO3o5cMRqsBOrlY%3d&risl=&pid=ImgRaw&r=0\" \n",
    "     style=\"float: right; margin-right: 30px;\" \n",
    "     width=\"120\"\n",
    "     />\n",
    "\n",
    " ---\n",
    " \n",
    " # **OPTIMIZACIÓN: TAREA 9**\n",
    " EZAU FARIDH TORRES TORRES.\n",
    "     \n",
    "<p align=\"right\"> Maestría en Ciencias con Orientación en Matemáticas Aplicadas. </p>\n",
    "<p align=\"right\"> CENTRO DE INVESTIGACIÓN EN MATEMÁTICAS. </p>\n",
    "\n",
    "---"
   ]
  },
  {
   "cell_type": "code",
   "execution_count": 1,
   "metadata": {},
   "outputs": [],
   "source": [
    "import pandas as pd\n",
    "import numpy as np\n",
    "import matplotlib.pyplot as plt\n",
    "np.random.seed(7)\n",
    "\n",
    "def BACKTRAKING(alpha_i: float, p: float, c: float, \n",
    "                xk: np.array, f, fxk: np.array,\n",
    "                gradfxk: np.array, pk: np.array, Nb: int):\n",
    "    alpha = alpha_i\n",
    "    for i in range(Nb):\n",
    "        if f(xk + alpha*pk) <= fxk + c*alpha*(gradfxk.T)@pk:\n",
    "            return alpha, i\n",
    "        alpha = p*alpha\n",
    "    return alpha, Nb\n",
    "\n",
    "def DESC_MAX_BACKTRACKING(f, gradf, xk: np.array, tol: float,\n",
    "                        max_iter: int, alpha_i: float,\n",
    "                        p: float, c: float, Nb: int):\n",
    "    \"\"\"\n",
    "    Gradient Descent with Backtracking Line Search.\n",
    "    \n",
    "    Args:\n",
    "    - f:        function to minimize.\n",
    "    - gradf:    gradient of f.\n",
    "    - xk:       initial point.\n",
    "    - tol:      tolerance.\n",
    "    - max_iter: maximum number of iterations.\n",
    "    - alpha_i:  initial value of alpha.\n",
    "    - p:        factor to reduce alpha.\n",
    "    - c:        factor to reduce alpha.\n",
    "    - Nb:       maximum number of iterations for backtracking.\n",
    "\n",
    "    Returns:\n",
    "    - xk:  optimal point.\n",
    "    - k:   number of iterations.\n",
    "    - T/F: if the algorithm converged, False otherwise.\n",
    "    \"\"\"\n",
    "    for k in range(max_iter):\n",
    "        gk = gradf(xk)\n",
    "        pk = -gk\n",
    "        ak = BACKTRAKING(alpha_i, p, c, xk, f, f(xk), gk, pk, Nb)[0]\n",
    "        if ak*np.linalg.norm(gk) < tol:\n",
    "            return xk, k, True\n",
    "        xk = xk + ak * pk\n",
    "    return xk, max_iter, False"
   ]
  },
  {
   "cell_type": "markdown",
   "metadata": {},
   "source": [
    "---\n",
    "\n",
    "# **1.- EJERCICIO 1:**\n",
    "\n",
    "---\n",
    "\n",
    "Construir un clasificador binario basado en el método de regresión logística.\n",
    "Puede revisar las notas de las ayudantías 10 y 11. En particular,\n",
    "podemos tomar de referencia el artículo (minka-logreg.pdf) que aparece en la Ayudantía 10:\n",
    "\n",
    "> \"A comparison of numerical optimizers for logistic regression\". Thomas P. Minka\n",
    "\n",
    "Para usar la notación de este artículo, tenemos un conjunto de datos y cada dato\n",
    "puede pertener a una de dos clases. \n",
    "Las clases  se identifican con las etiquetas \"-1\" y \"1\". Para hacer la clasificación\n",
    "se necesita determinar un vector $\\mathbf{w}$ que se usa para\n",
    "calcular la probabilidad de que un dato $\\mathbf{x}_i \\in \\mathbb{R}^n$ \n",
    "pertenezca a la clase $y_i \\in \\{-1,1\\}$ mediante la evaluación de la función sigmoide:\n",
    "\n",
    "$$ \\sigma(\\mathbf{x}_i, y_i, \\mathbf{w}) = \\frac{1}{1 + \\exp(-y_i\\mathbf{w}^\\top\\mathbf{x}_i)}.  $$ \n",
    "\n",
    "Cada vector $\\mathbf{x}_i$ está formado por el valor de ciertas características\n",
    "asociadas el individuo $i$-ésimo.\n",
    "\n",
    "Dada una colección de datos etiquetados $(\\mathbf{x}_1, y_1), ..., (\\mathbf{x}_m, y_m)$, se \n",
    "mide el error de clasificación mediante\n",
    "\n",
    "$$ L(\\mathbf{w}) = \\sum_{i=1}^m \\log(1 + \\exp(-y_i\\mathbf{w}^\\top\\mathbf{x}_i)) \n",
    "+ \\frac{\\lambda}{2} \\mathbf{w}^\\top\\mathbf{w}.  $$ \n",
    "\n",
    "El segundo término de la expresión anterior penaliza la magnitud de la solución $\\mathbf{w}$\n",
    "dependiendo del valor de $\\lambda$.\n",
    "\n",
    "En general, los datos se almacenan en una matriz de modo de cada vector $\\mathbf{x}_i$\n",
    "es una fila de la matriz $\\mathbf{X}$ y las etiquetas $y_i$ son las componentes de un\n",
    "vector $\\mathbf{y}$:\n",
    "\n",
    "$$ \\mathbf{X} = \\left[ \\begin{array}{c} \n",
    "\\mathbf{x}_1^\\top \\\\ \n",
    "\\mathbf{x}_2^\\top \\\\ \n",
    "\\vdots \\\\\n",
    "\\mathbf{x}_m^\\top \n",
    "\\end{array} \\right], \\qquad\n",
    "\\mathbf{y} = \\left( \\begin{array}{c} \n",
    "y_1 \\\\ \n",
    "y_2 \\\\ \n",
    "\\vdots \\\\\n",
    "y_m \n",
    "\\end{array} \\right).\n",
    "$$\n",
    "\n",
    "## **1.1.**\n",
    "Muestre que el gradiente de $L(\\mathbf{w})$ está dado por\n",
    "\n",
    "$$ \\nabla_w L(\\mathbf{w}) = - \\sum_{i=1}^m (1 - \\sigma(\\mathbf{x}_i, y_i, \\mathbf{w})) y_i\\mathbf{x}_i\n",
    "+ \\lambda \\mathbf{w}. $$"
   ]
  },
  {
   "cell_type": "markdown",
   "metadata": {},
   "source": [
    ">$$\n",
    ">\\begin{aligned}\n",
    ">\\frac{\\partial L(\\mathbf{w})}{\\partial w_{i}} &= \\frac{\\partial}{\\partial w_{i}} \\left( \\sum_{i=1}^m \\log(1 + \\exp(-y_i\\mathbf{w}^\\top\\mathbf{x}_i)) + \\frac{\\lambda}{2} \\mathbf{w}^\\top\\mathbf{w} \\right) \\\\\n",
    ">\n",
    ">&= \\sum_{i=1}^m \\frac{\\partial}{\\partial w_{i}} \\left(\\log(1 + \\exp(-y_i\\mathbf{w}^\\top\\mathbf{x}_i)) \\right) + \\frac{\\lambda}{2} \\frac{\\partial}{\\partial w_{i}} \\left( \\mathbf{w}^\\top\\mathbf{w} \\right)\\\\\n",
    ">\n",
    ">&= \\sum_{i=1}^m \\frac{1}{1 + \\exp(-y_i\\mathbf{w}^\\top\\mathbf{x}_i)} \\frac{\\partial}{\\partial w_{i}} \\left( 1 + \\exp(-y_i\\mathbf{w}^\\top\\mathbf{x}_i) \\right) + \\lambda\\mathbf{w}\\\\\n",
    ">\n",
    ">&= \\sum_{i=1}^m \\frac{\\exp(-y_i\\mathbf{w}^\\top\\mathbf{x}_i)}{1 + \\exp(-y_i\\mathbf{w}^\\top\\mathbf{x}_i)} \\frac{\\partial}{\\partial w_{i}} \\left( -y_i\\mathbf{w}^\\top\\mathbf{x}_i \\right) + \\lambda\\mathbf{w}\\\\\n",
    ">\n",
    ">&= -\\sum_{i=1}^m (1 - \\sigma(\\mathbf{x}_i, y_i, \\mathbf{w})) y_i\\mathbf{x}_i + \\lambda\\mathbf{w}\\\\\n",
    ">\\end{aligned}\n",
    ">$$"
   ]
  },
  {
   "cell_type": "markdown",
   "metadata": {},
   "source": [
    "## **1.2.**\n",
    "Programar las funciones \n",
    "\n",
    "$$\\sigma(\\mathbf{X}, \\mathbf{y}, \\mathbf{w}), \\quad \n",
    "L(\\mathbf{w})\\quad \\text{y} \\quad \\nabla_w L(\\mathbf{w}).$$\n",
    "   \n",
    "- Conviene programar la función sigmoide para que pueda recibir la matriz $\\mathbf{X}$ y el vector\n",
    "  $\\mathbf{y}$, en lugar de dar un vector $\\mathbf{x}_i$ y su etiqueta $y_i$, para que\n",
    "  evalue todos los datos y devuelva un vector con probabilidades\n",
    "  \n",
    "$$ \\left( \\begin{array}{c}\n",
    "\\sigma(\\mathbf{x}_1, y_1, \\mathbf{w})  \\\\\n",
    "\\sigma(\\mathbf{x}_2, y_2, \\mathbf{w}) \\\\\n",
    "\\vdots \\\\\n",
    "\\sigma(\\mathbf{x}_m, y_m, \\mathbf{w})\n",
    "\\end{array} \\right).\n",
    "$$ \n",
    "\n",
    "- Una vez que se tiene ese vector de probabilidades, se puede calcular el gradiente\n",
    "  de $ L()$. "
   ]
  },
  {
   "cell_type": "code",
   "execution_count": 2,
   "metadata": {},
   "outputs": [],
   "source": [
    "def SIGMOID(X: np.array, y: np.array, w: np.array):\n",
    "    return 1 / (1 + np.exp(-y * np.dot(X, w)))\n",
    "\n",
    "def L(w: np.array, X: np.array, y: np.array, lb: float):\n",
    "    return np.sum(np.log(1 + np.exp(-y * np.dot(X, w)))) + (lb/2) * np.dot(w, w)\n",
    "\n",
    "def DL(w: np.array, X: np.array, y: np.array, lb: float):\n",
    "    return np.dot(X.T, -y / (1 + np.exp(y * np.dot(X, w)))) + lb * w\n",
    "\n",
    "def gradL(w: np.array, X: np.array, y: np.array, lb: float):\n",
    "    return np.dot(X.T, -y * (1-SIGMOID(X, y, w))) + lb * w"
   ]
  },
  {
   "cell_type": "markdown",
   "metadata": {},
   "source": [
    "## **1.3.**\n",
    "Aplique el método de descenso máximo para minimizar la función $L(\\mathbf{w})$. \n",
    "   Use backtracking para calcular el tamaño de paso $\\alpha_k$, de modo \n",
    "   $\\mathbf{w}_{k+1} = \\mathbf{w}_{k} + \\alpha_k  \\mathbf{p}_{k}$, donde\n",
    "   \n",
    "$$\\mathbf{p}_{k} = - \\mathbf{g}_{k} = -\\nabla_w L(\\mathbf{w}_k)$$\n",
    "  \n",
    "  \n",
    "Una vez que se ha calculado el minimizador $\\mathbf{w}_*$ de $L(\\mathbf{w})$\n",
    "puede usar la función $predict(\\mathbf{X}, \\mathbf{w}_*)$, codificada en la siguiente celda,\n",
    "para predecir las etiquetas de los datos que están en la matriz $\\mathbf{X}$.\n",
    "Así, esta función devuelve un vector que tiene las etiquetas $-1$ o  $1$ que se asigna\n",
    "cada dato (fila) en la matriz $\\mathbf{X}$ de acuerdo a la probabilidad que tiene ese\n",
    "dato de pertenecer a una de las clases.\n",
    "\n",
    "**Nota:**   Hay que implementar la función `sigmoid()` como se indica en el Punto 2\n",
    "para poder ejecutar la función `predict()`.\n",
    "\n",
    "La función  `predict()` es la respuesta del clasificador en cada dato de la matriz $\\mathbf{X}$."
   ]
  },
  {
   "cell_type": "code",
   "execution_count": 3,
   "metadata": {},
   "outputs": [],
   "source": [
    "# Función para predecir la clase de cada dato (fila) en la matriz X\n",
    "# Devuelve un arreglo del tamaño de la cantidad de filas de X que tiene \n",
    "# las etiquetas -1 o 1  que se predicen para cada dato.\n",
    "# Para calcular las etiquetas, se calcula el vector que tiene las probabilidades\n",
    "# de que los datos pertenezcan a la clase 1. Si la probabilidad es mayor que 0.5,\n",
    "# se asigna la clase 1. En caso contrario se asigna la clase -1.\n",
    "#\n",
    "def predict(X, w):  \n",
    "    # Vector de prediciones. Se inicializa como si todas las etiquetas fueran 1\n",
    "    y_pred = np.ones(X.shape[0])\n",
    "    # Vector de probalidades de que los datos pertenezcan a la clase 1\n",
    "    vprob  = SIGMOID(X, np.ones(X.shape[0]), w)\n",
    "    # Se obtienen los índices de los datos que tienen una probabilidad menor a 0.5\n",
    "    ii     = np.where(vprob<=0.5)[0]\n",
    "    # Se cambia la etiqueta por -1 para todos los datos con probabilidad menor a 0.5\n",
    "    y_pred[ii] = -1\n",
    "    return y_pred"
   ]
  },
  {
   "cell_type": "markdown",
   "metadata": {},
   "source": [
    "En general, dado un conjunto de datos, se toma una parte de ellos para construir\n",
    "el clasificador. Ese subconjunto se llama el **conjunto de entrenamiento**.\n",
    "El resto de los datos se usan para evaluar el desempeño del clasificador y \n",
    "se llama el **conjunto de prueba**.\n",
    "   \n",
    "Para evaluar el desempeño del clasificador hay varias métricas.\n",
    "El código de la siguiente celda muestra:\n",
    "- Cómo leer los datos de un archivo, \n",
    "- separarlos en el conjunto de entrenamiento y validación,\n",
    "- estandarizar los datos de cada conjunto,\n",
    "- agregar una columna formada por 1's a los datos. Si no se hace esto, \n",
    "  en lugar de usar el producto $\\mathbf{w}^\\top\\mathbf{x}_i$, se tendría que \n",
    "  usar $b + \\mathbf{w}^\\top\\mathbf{x}_i$ y calcular el bias $b$ por separado.\n",
    "  Al agregar esta columna de 1's a los datos, es como equivalente a que el bias \n",
    "  $b$ forme parte del vector $\\mathbf{w}$.\n",
    "- Se calcula la matriz de confusión que en su diagonal muestra la cantidad\n",
    "  de datos en los que la predicción de la clase que hace el clasificador es correcta,\n",
    "  mientras que los elementos fuera de la diagonal son la cantidad de datos\n",
    "  mal clasificados.\n",
    "- Se evalúa la exactitud (accuracy) del clasificador. Entre más cerca esté este\n",
    "  valor a 1, es mejor el desempeño del clasificador.\n",
    "\n",
    "\n",
    "El conjunto de datos corresponde a un estudio en el que se miden 13 características\n",
    "a una muestra de 303 individuos, descritas en \n",
    "\n",
    "[Heart disease](https://archive.ics.uci.edu/dataset/45/heart+disease)\n",
    "\n",
    "Cada registro  tiene una etiqueta que indica la presencia (etiqueta 1) de una\n",
    "enfermedad del corazón, o que no la tiene (etiqueta 0). Esta última etiqueta\n",
    "la cambiamos por \"-1\" para que coincida con la notación del artículo.\n",
    "\n",
    "El objetivo es tomar una parte de los datos para crear el clasificador y medir\n",
    "el desempeño del clasificador con el resto los datos, haciendo que el clasificador\n",
    "prediga a que clase pertenece cada dato del conjunto de prueba y comparando \n",
    "las predicciones con la verdadera etiqueta.\n"
   ]
  },
  {
   "cell_type": "code",
   "execution_count": 4,
   "metadata": {},
   "outputs": [
    {
     "name": "stdout",
     "output_type": "stream",
     "text": [
      "Dimensiones de la tabla: (303, 14)\n"
     ]
    },
    {
     "data": {
      "text/html": [
       "<div>\n",
       "<style scoped>\n",
       "    .dataframe tbody tr th:only-of-type {\n",
       "        vertical-align: middle;\n",
       "    }\n",
       "\n",
       "    .dataframe tbody tr th {\n",
       "        vertical-align: top;\n",
       "    }\n",
       "\n",
       "    .dataframe thead th {\n",
       "        text-align: right;\n",
       "    }\n",
       "</style>\n",
       "<table border=\"1\" class=\"dataframe\">\n",
       "  <thead>\n",
       "    <tr style=\"text-align: right;\">\n",
       "      <th></th>\n",
       "      <th>age</th>\n",
       "      <th>sex</th>\n",
       "      <th>cp</th>\n",
       "      <th>trestbps</th>\n",
       "      <th>chol</th>\n",
       "      <th>fbs</th>\n",
       "      <th>restecg</th>\n",
       "      <th>thalach</th>\n",
       "      <th>exang</th>\n",
       "      <th>oldpeak</th>\n",
       "      <th>slope</th>\n",
       "      <th>ca</th>\n",
       "      <th>thal</th>\n",
       "      <th>target</th>\n",
       "    </tr>\n",
       "  </thead>\n",
       "  <tbody>\n",
       "    <tr>\n",
       "      <th>0</th>\n",
       "      <td>63</td>\n",
       "      <td>1</td>\n",
       "      <td>3</td>\n",
       "      <td>145</td>\n",
       "      <td>233</td>\n",
       "      <td>1</td>\n",
       "      <td>0</td>\n",
       "      <td>150</td>\n",
       "      <td>0</td>\n",
       "      <td>2.3</td>\n",
       "      <td>0</td>\n",
       "      <td>0</td>\n",
       "      <td>1</td>\n",
       "      <td>1</td>\n",
       "    </tr>\n",
       "    <tr>\n",
       "      <th>1</th>\n",
       "      <td>37</td>\n",
       "      <td>1</td>\n",
       "      <td>2</td>\n",
       "      <td>130</td>\n",
       "      <td>250</td>\n",
       "      <td>0</td>\n",
       "      <td>1</td>\n",
       "      <td>187</td>\n",
       "      <td>0</td>\n",
       "      <td>3.5</td>\n",
       "      <td>0</td>\n",
       "      <td>0</td>\n",
       "      <td>2</td>\n",
       "      <td>1</td>\n",
       "    </tr>\n",
       "    <tr>\n",
       "      <th>2</th>\n",
       "      <td>41</td>\n",
       "      <td>0</td>\n",
       "      <td>1</td>\n",
       "      <td>130</td>\n",
       "      <td>204</td>\n",
       "      <td>0</td>\n",
       "      <td>0</td>\n",
       "      <td>172</td>\n",
       "      <td>0</td>\n",
       "      <td>1.4</td>\n",
       "      <td>2</td>\n",
       "      <td>0</td>\n",
       "      <td>2</td>\n",
       "      <td>1</td>\n",
       "    </tr>\n",
       "    <tr>\n",
       "      <th>3</th>\n",
       "      <td>56</td>\n",
       "      <td>1</td>\n",
       "      <td>1</td>\n",
       "      <td>120</td>\n",
       "      <td>236</td>\n",
       "      <td>0</td>\n",
       "      <td>1</td>\n",
       "      <td>178</td>\n",
       "      <td>0</td>\n",
       "      <td>0.8</td>\n",
       "      <td>2</td>\n",
       "      <td>0</td>\n",
       "      <td>2</td>\n",
       "      <td>1</td>\n",
       "    </tr>\n",
       "    <tr>\n",
       "      <th>4</th>\n",
       "      <td>57</td>\n",
       "      <td>0</td>\n",
       "      <td>0</td>\n",
       "      <td>120</td>\n",
       "      <td>354</td>\n",
       "      <td>0</td>\n",
       "      <td>1</td>\n",
       "      <td>163</td>\n",
       "      <td>1</td>\n",
       "      <td>0.6</td>\n",
       "      <td>2</td>\n",
       "      <td>0</td>\n",
       "      <td>2</td>\n",
       "      <td>1</td>\n",
       "    </tr>\n",
       "  </tbody>\n",
       "</table>\n",
       "</div>"
      ],
      "text/plain": [
       "   age  sex  cp  trestbps  chol  fbs  restecg  thalach  exang  oldpeak  slope  \\\n",
       "0   63    1   3       145   233    1        0      150      0      2.3      0   \n",
       "1   37    1   2       130   250    0        1      187      0      3.5      0   \n",
       "2   41    0   1       130   204    0        0      172      0      1.4      2   \n",
       "3   56    1   1       120   236    0        1      178      0      0.8      2   \n",
       "4   57    0   0       120   354    0        1      163      1      0.6      2   \n",
       "\n",
       "   ca  thal  target  \n",
       "0   0     1       1  \n",
       "1   0     2       1  \n",
       "2   0     2       1  \n",
       "3   0     2       1  \n",
       "4   0     2       1  "
      ]
     },
     "execution_count": 4,
     "metadata": {},
     "output_type": "execute_result"
    }
   ],
   "source": [
    "# Lectura de los datos\n",
    "data = pd.read_csv('heart.csv')\n",
    "print('Dimensiones de la tabla:', data.shape)\n",
    "data.head()"
   ]
  },
  {
   "cell_type": "code",
   "execution_count": 5,
   "metadata": {},
   "outputs": [
    {
     "data": {
      "text/plain": [
       "target\n",
       "0    138\n",
       "1    165\n",
       "dtype: int64"
      ]
     },
     "execution_count": 5,
     "metadata": {},
     "output_type": "execute_result"
    }
   ],
   "source": [
    "# Esto muestra cuántos datos se tienen en la clase '0' y en la clase '1'\n",
    "data.groupby(['target']).size()"
   ]
  },
  {
   "cell_type": "code",
   "execution_count": 6,
   "metadata": {},
   "outputs": [
    {
     "name": "stdout",
     "output_type": "stream",
     "text": [
      "w = \n",
      "[ 0.11505553 -0.07527989 -0.86343872  0.79668329 -0.19306509 -0.24740666\n",
      " -0.13375708  0.09199133  0.5056945  -0.47893713 -0.64523259  0.13478362\n",
      " -0.88420603 -0.46002338]\n"
     ]
    }
   ],
   "source": [
    "from sklearn.preprocessing import StandardScaler\n",
    "# data splitting\n",
    "from sklearn.model_selection import train_test_split\n",
    "# data modeling\n",
    "from sklearn.metrics import confusion_matrix, ConfusionMatrixDisplay, accuracy_score\n",
    "from sklearn.linear_model import LogisticRegression\n",
    "\n",
    "# Cambiamos la etiqueta 0 por -1\n",
    "data.loc[data['target']==0, 'target'] = -1\n",
    "# Vector de etiquetas\n",
    "y  = data[\"target\"]\n",
    "\n",
    "# Matriz de datos\n",
    "X  = data.drop('target',axis=1)\n",
    "\n",
    "# Se usa el 20% de los datos para crear el conjunto de prueba\n",
    "X_train, X_test, y_train, y_test = train_test_split(X, y, test_size = 0.20, random_state = 0)\n",
    "\n",
    "# Se estandariza cada columna de la matriz de datos para evitar que por tener diferentes \n",
    "# rangos de valores cada columna (variable), afecte al algoritmo de optimización\n",
    "scaler = StandardScaler()\n",
    "X_train = scaler.fit_transform(X_train)\n",
    "X_test = scaler.transform(X_test)\n",
    "\n",
    "# Número de muestras del conjunto de entrenamiento\n",
    "ntrain  = X_train.shape[0]\n",
    "# Se agrega una columna de 1's para que el bias b forme pare del vector w\n",
    "X_train = np.hstack((np.ones((ntrain,1)), X_train))\n",
    "\n",
    "# Número de muestras del conjunto de prueba\n",
    "ntest   = X_test.shape[0]\n",
    "# Se agrega una columna de 1's para que el bias b forme pare del vector w\n",
    "X_test  = np.hstack((np.ones((ntest,1)), X_test))\n",
    "\n",
    "# Se convierte los dataframes a una matriz de numpy\n",
    "y_train = y_train.to_numpy()\n",
    "y_test = y_test.to_numpy()\n",
    "\n",
    "# Se entrena el clasificador de regresión logística\n",
    "lr    = LogisticRegression(fit_intercept=False)\n",
    "model = lr.fit(X_train, y_train)\n",
    "\n",
    "# Imprimimos las componentes de w\n",
    "w = np.squeeze(model.coef_)\n",
    "print('w = ')\n",
    "print(w)\n",
    "\n",
    "# Se calcula las predicciones para el conjunto de prueba \n",
    "y_predict = model.predict(X_test)"
   ]
  },
  {
   "cell_type": "code",
   "execution_count": 7,
   "metadata": {},
   "outputs": [
    {
     "name": "stdout",
     "output_type": "stream",
     "text": [
      "\n",
      "Accuracy: 0.8360655737704918 \n",
      "\n"
     ]
    },
    {
     "data": {
      "text/plain": [
       "<sklearn.metrics._plot.confusion_matrix.ConfusionMatrixDisplay at 0x12fcca850>"
      ]
     },
     "execution_count": 7,
     "metadata": {},
     "output_type": "execute_result"
    },
    {
     "data": {
      "image/png": "[encoded data removed]",
      "text/plain": [
       "<Figure size 640x480 with 2 Axes>"
      ]
     },
     "metadata": {},
     "output_type": "display_data"
    }
   ],
   "source": [
    "# Se mide el desempeño calculando la matriz de confusión y la exactitud\n",
    "conf_matrix = confusion_matrix(y_test, y_predict)\n",
    "acc_score = accuracy_score(y_test, y_predict)\n",
    "print(\"\\nAccuracy:\", acc_score,'\\n')\n",
    "\n",
    "disp = ConfusionMatrixDisplay(confusion_matrix=conf_matrix,\n",
    "                              display_labels=model.classes_)\n",
    "disp.plot()"
   ]
  },
  {
   "cell_type": "markdown",
   "metadata": {},
   "source": [
    "## **1.4.**\n",
    "Pruebe el algoritmo de optimización usando $\\mathbf{w}_0=(1,1,...,1)$,  el \n",
    "   número de iteraciones máximas $N=500$, la tolerancia para terminar el algoritmo \n",
    "   $\\tau = \\sqrt{ntrain}\\epsilon_m^{1/3}$ y para el algoritmo de backtracking\n",
    "   $\\rho = 0.5, c_1 = 0.001$ $N_b=500$.\n",
    "   \n",
    "   Cree un clasificador usando $\\lambda=0.001$ y otro clasificador usando $\\lambda=1.0$. \n",
    "   \n",
    "   En cada caso use la función $predict(X_{test}, w_*)$\n",
    "   para obtener el vector de predicciones de la clase para el conjunto de prueba y\n",
    "   use el código de la celda anterior para obtener la matriz de confusión y la \n",
    "   exactitud del clasificador, para ver cual de los dos tiene mejor desempeño."
   ]
  },
  {
   "cell_type": "code",
   "execution_count": 8,
   "metadata": {},
   "outputs": [],
   "source": [
    "n = X_train.shape[1]\n",
    "eps = np.finfo(float).eps\n",
    "w0 = np.ones(n)\n",
    "N = 500\n",
    "tol = np.sqrt(n)*(eps)**(1/3)\n",
    "alpha_i = 1 # Para backtracking\n",
    "p = 0.5\n",
    "c = 0.001\n",
    "Nb = 500"
   ]
  },
  {
   "cell_type": "markdown",
   "metadata": {},
   "source": [
    "$\\lambda = 0.001$"
   ]
  },
  {
   "cell_type": "code",
   "execution_count": 9,
   "metadata": {},
   "outputs": [
    {
     "name": "stdout",
     "output_type": "stream",
     "text": [
      "[ 0.11146028 -0.06878055 -0.93338384  0.85046037 -0.20271986 -0.28170497\n",
      " -0.14977029  0.09651291  0.53730568 -0.49274109 -0.69146067  0.12941506\n",
      " -0.9394873  -0.48498579]\n",
      "[-1.  1.  1. -1. -1. -1. -1. -1. -1. -1.  1.  1. -1.  1.  1.  1. -1.  1.\n",
      " -1.  1.  1. -1. -1. -1.  1.  1. -1. -1.  1.  1.  1. -1.  1.  1.  1.  1.\n",
      " -1.  1. -1. -1.  1.  1. -1. -1.  1.  1.  1.  1. -1.  1.  1.  1.  1.  1.\n",
      "  1. -1.  1.  1.  1.  1.  1.]\n"
     ]
    }
   ],
   "source": [
    "lb = 0.001\n",
    "f = lambda w: L(w, X_train, y_train, lb)\n",
    "gradf = lambda w: gradL(w, X_train, y_train, lb)\n",
    "w_star, iter, bres = DESC_MAX_BACKTRACKING(f = f, gradf = gradf, xk = w0, tol = tol,\n",
    "                                           max_iter = N, alpha_i = alpha_i, p = p,\n",
    "                                           c = c, Nb = Nb)\n",
    "print(w_star)\n",
    "print(predict(X_test, w_star))"
   ]
  },
  {
   "cell_type": "markdown",
   "metadata": {},
   "source": [
    "$\\lambda = 1.0$"
   ]
  },
  {
   "cell_type": "code",
   "execution_count": 10,
   "metadata": {},
   "outputs": [
    {
     "name": "stdout",
     "output_type": "stream",
     "text": [
      "[ 0.11472699 -0.07509462 -0.86334168  0.79656229 -0.19296444 -0.24737106\n",
      " -0.13381764  0.09216653  0.50578179 -0.47868273 -0.64593182  0.13432751\n",
      " -0.88456256 -0.45990249]\n",
      "[-1.  1.  1. -1. -1. -1. -1. -1. -1. -1.  1.  1. -1.  1.  1.  1. -1.  1.\n",
      " -1.  1.  1. -1. -1. -1.  1.  1. -1. -1.  1.  1.  1. -1.  1.  1.  1.  1.\n",
      " -1.  1. -1. -1.  1.  1. -1. -1. -1.  1.  1.  1. -1.  1.  1.  1.  1.  1.\n",
      "  1. -1.  1.  1.  1.  1.  1.]\n"
     ]
    }
   ],
   "source": [
    "lb = 1.0\n",
    "f = lambda w: L(w, X_train, y_train, lb)\n",
    "gradf = lambda w: gradL(w, X_train, y_train, lb)\n",
    "w_star, iter, bres = DESC_MAX_BACKTRACKING(f = f, gradf = gradf, xk = w0, tol = tol,\n",
    "                                           max_iter = N, alpha_i = alpha_i, p = p,\n",
    "                                           c = c, Nb = Nb)\n",
    "print(w_star)\n",
    "print(predict(X_test, w_star))"
   ]
  },
  {
   "cell_type": "markdown",
   "metadata": {},
   "source": [
    "---\n",
    "\n",
    "# **2.- EJERCICIO 2:**\n",
    "\n",
    "---\n",
    "\n",
    "Usando el método de Gauss-Newton (Algoritmo 1 de la Clase 26) ajustar el modelo \n",
    "\n",
    "$$ h(t; N_{max}, r, t_0) = \\frac{N_{max}}{1 + \\exp(-r(t - t_0))}.  $$\n",
    "\n",
    "La variable $t$ representa el tiempo. Los parámetros del modelo son $N_{max}, r, t_0$.\n",
    "\n",
    "Considere el conjunto de datos $\\{(t_1, y_1), (t_2, y_2), ..., (t_m, y_m) \\}$ que generaron en la Ayudantía 12.\n",
    "\n",
    "Los datos están almacenados los vectores $\\mathbf{T}$ y $\\mathbf{Y}$:\n",
    "\n",
    "$$\n",
    "\\mathbf{T} = \\left( \\begin{array}{c} t_1 \\\\ t_2 \\\\ \\vdots \\\\ t_m \\end{array} \\right), \\qquad\n",
    "\\mathbf{Y} = \\left( \\begin{array}{c} y_1 \\\\ y_2 \\\\ \\vdots \\\\ y_m \\end{array} \\right).\n",
    "$$"
   ]
  },
  {
   "cell_type": "code",
   "execution_count": 11,
   "metadata": {},
   "outputs": [
    {
     "data": {
      "image/png": "[encoded data removed]",
      "text/plain": [
       "<Figure size 640x480 with 1 Axes>"
      ]
     },
     "metadata": {},
     "output_type": "display_data"
    }
   ],
   "source": [
    "def fnc_h(t, N_max, r, t0):\n",
    "    return N_max / (1 + np.exp(-r * (t - t0)))\n",
    "m = 500\n",
    "rnd_scale = 5e2\n",
    "params_hat = (N_max_hat, r_hat, t0_hat) = (1e4, 0.1, 5)\n",
    "T = np.linspace(0, 100, m)\n",
    "Y = fnc_h(T, *params_hat) + rnd_scale * np.random.randn(m)\n",
    "plt.plot(T, Y, 'o', markersize = 2)\n",
    "plt.plot(T, fnc_h(T, *params_hat), 'r')\n",
    "plt.show()"
   ]
  },
  {
   "cell_type": "markdown",
   "metadata": {},
   "source": [
    "Para resolver el problema de mínimos cuadrados no lineales hay \n",
    "que definir los residuales como la diferencia entre los que predice\n",
    "el modelo $ h(t_i; N_{max}, r, t_0)$ y el valor observado $y_i$:\n",
    "\n",
    "$$ r_i(N_{max}, r, t_0) = h(t_i; N_{max}, r, t_0) - y_i, \\quad i=1,2,...,m. $$\n",
    "\n",
    "Si definimos  $\\mathbf{z} = (N_{max}, r, t_0)$ , la función de residuales está dada por\n",
    "\n",
    "$$ \\mathbf{R}(\\mathbf{z}) = \\left( \\begin{array}{c}\n",
    "          r_{1}(\\mathbf{z}) \\\\\n",
    "          r_{2}(\\mathbf{z}) \\\\\n",
    "          \\vdots \\\\\n",
    "          r_{m}(\\mathbf{z}) \\\\\n",
    "\\end{array} \\right). $$\n",
    "\n",
    "Hay que calcular los parámetros $\\mathbf{z} = (N_{max}, r, t_0)$ resolviendo el problema\n",
    "de mínimos cuadrados no lineales.\n",
    "\n",
    "$$ \\min_{z} \\; f(\\mathbf{z}) = \\frac{1}{2}\\sum_{i=1}^m r_i^2(\\mathbf{z}) \n",
    "=  \\frac{1}{2} \\left[ \\mathbf{R}(\\mathbf{z}) \\right]^\\top  \\mathbf{R}(\\mathbf{z}). $$\n",
    "\n",
    "## **2.1.**\n",
    "Programe el método de Gauss-Newton de acuerdo con Algoritmo 1 de la Clase 26.\n",
    "   Haga que la función devuelva el último punto $\\mathbf{z}_k$, \n",
    "   el vector $\\mathbf{p}_k$ y el número de iteraciones $k$ realizadas."
   ]
  },
  {
   "cell_type": "code",
   "execution_count": 12,
   "metadata": {},
   "outputs": [],
   "source": [
    "def GAUSS_NEWTON_METHOD(f, R, J, xk: np.array, N: int,\n",
    "                        tol: float, p: float, c: float, Nb: int) -> tuple:\n",
    "    \"\"\"\n",
    "    Gauss-Newton method.\n",
    "\n",
    "    Args:\n",
    "    - f:   function to minimize.\n",
    "    - R:   residual function.\n",
    "    - J:   Jacobian matrix of R.\n",
    "    - xk:  initial guess.\n",
    "    - N:   maximum number of iterations.\n",
    "    - tol: tolerance.\n",
    "    - p:   reduction factor for the step size.\n",
    "    - c:   constant for the Armijo condition.\n",
    "    - Nb:  maximum number of iterations for the backtracking line search.\n",
    "\n",
    "    Returns:\n",
    "    - xk:  optimal point.\n",
    "    - pk:  optimal step.\n",
    "    - k:   number of iterations.\n",
    "    - T/F: if the algorithm converges.\n",
    "\n",
    "    \"\"\"\n",
    "    for k in range(N-1):\n",
    "        Rk = R(xk)\n",
    "        Jk = J(xk)\n",
    "        fk = f(xk)\n",
    "        gk = Jk.T @ Rk\n",
    "        pk = np.linalg.solve(Jk.T @ Jk, -gk)\n",
    "        if np.linalg.norm(pk) < tol:\n",
    "            return xk, pk, k, True\n",
    "        ak = BACKTRAKING(alpha_i = 1, p = p, c = c, xk = xk,\n",
    "                         f = f, fxk = fk, gradfxk = gk, pk = pk,\n",
    "                         Nb = Nb)[0]\n",
    "        xk = xk + ak * pk\n",
    "    return xk, pk, N, False"
   ]
  },
  {
   "cell_type": "markdown",
   "metadata": {},
   "source": [
    "## **2.2.**\n",
    "Programe las funciones  $\\mathbf{R}(\\mathbf{z})$, $f(\\mathbf{z})$ y \n",
    "   la función que calcula matriz Jacobiana $\\mathbf{J}(\\mathbf{z})$ de $\\mathbf{R}(\\mathbf{z})$\n",
    "   para el modelo $h(t_i; N_{max}, r, t_0)$."
   ]
  },
  {
   "cell_type": "markdown",
   "metadata": {},
   "source": [
    ">Para encontrar la matriz Jacobiana $\\mathbf{J(z)}$ de $\\mathbf{R(z)}$, con $\\mathbf{z} = (N_{max}, r, t_0)$, se calculan las derivadas parciales de\n",
    ">$$\n",
    ">r_i(N_{max}, r, t_0) = \\frac{N_{max}}{1 + \\exp(-r(t_i - t_0))} - y_i\n",
    ">$$\n",
    ">\n",
    ">para $i=1, \\dots ,m$. Resultando:\n",
    ">\n",
    ">$$\n",
    ">\\begin{aligned}\n",
    ">\\frac{\\partial r_i}{\\partial N_{max}} &= \\frac{1}{1 + \\exp(-r(t_i - t_0))}\\\\\n",
    ">\\\\\n",
    ">\\frac{\\partial r_i}{\\partial r} &= N_{max} (t_i-t_0)\\frac{\\exp(-r(t_i - t_0))}{\\left(1 + \\exp(-r(t_i - t_0))\\right)^2}\\\\\n",
    ">\\\\\n",
    ">\\frac{\\partial r_i}{\\partial t_0} &= -r N_{max}\\frac{\\exp(-r(t_i - t_0))}{\\left(1 + \\exp(-r(t_i - t_0))\\right)^2}\n",
    ">\\end{aligned}\n",
    ">$$"
   ]
  },
  {
   "cell_type": "code",
   "execution_count": 13,
   "metadata": {},
   "outputs": [],
   "source": [
    "def R(z: np.array, t: np.array, y: np.array):\n",
    "    return fnc_h(t, z[0], z[1], z[2]) - y\n",
    "\n",
    "def f(z: np.array, t: np.array, y: np.array):\n",
    "    return 0.5 * R(z, t, y).T @ R(z, t, y)\n",
    "\n",
    "def J(z: np.array, t: np.array):\n",
    "    Jac = np.zeros((len(z), len(t)), dtype = float)\n",
    "    Jac[0, :] = 1 / (1 + np.exp(-z[1] * (t - z[2])))\n",
    "    Jac[1, :] = (z[0] * (t - z[2]) * np.exp(-z[1] * (t - z[2]))) / (1 + np.exp(-z[1] * (t - z[2])))**2\n",
    "    Jac[2, :] = -(z[1]* z[0] * np.exp(-z[1] * (t - z[2]))) / (1 + np.exp(-z[1] * (t - z[2])))**2 \n",
    "    return Jac.T"
   ]
  },
  {
   "cell_type": "markdown",
   "metadata": {},
   "source": [
    "## **2.3.**\n",
    "Aplique el método de Gauss-Newton partiendo del punto inicial\n",
    "   $\\mathbf{z}_0 = (1000, 0.2, 0)$, una tolerancia $\\tau=\\epsilon_m^{1/3}$\n",
    "   \n",
    "   Imprima el punto $\\mathbf{z}_k$ que devuelve el algoritmo, el valor \n",
    "   $f(\\mathbf{z}_k)$, el número de iteraciones $k$ realizadas y la norma de $\\mathbf{p}_k$."
   ]
  },
  {
   "cell_type": "code",
   "execution_count": 14,
   "metadata": {},
   "outputs": [
    {
     "name": "stdout",
     "output_type": "stream",
     "text": [
      "zk:           [9.94662619e+03 1.02464385e-01 5.00186366e+00]\n",
      "f(zk):        59503132.40467323\n",
      "ITERACIONES:  11\n",
      "||pk||:       1.2748803625076252e-07\n",
      "CONVERGENCIA: True\n"
     ]
    }
   ],
   "source": [
    "z0 = np.array([1000, 0.2, 0], dtype = float)\n",
    "tol = eps**(1/3)\n",
    "n = X_train.shape[1]\n",
    "\n",
    "# Parámetros para el método de Newton\n",
    "N = 500\n",
    "alpha_i = 1 # Para backtracking\n",
    "p = 0.5\n",
    "c = 0.001\n",
    "Nb = 500\n",
    "zk, pk, k, bres = GAUSS_NEWTON_METHOD(f = lambda z: f(z, t=T, y=Y),\n",
    "                                      R = lambda z: R(z, t=T, y=Y), \n",
    "                                      J = lambda z: J(z, t=T),\n",
    "                                      xk = z0, N = N, tol = tol,\n",
    "                                      p = p, c = c, Nb = Nb)\n",
    "print(\"zk:          \", zk)\n",
    "print(\"f(zk):       \", f(zk, T, Y))\n",
    "print(\"ITERACIONES: \", k)\n",
    "print(\"||pk||:      \", np.linalg.norm(pk))\n",
    "print(\"CONVERGENCIA:\", bres)"
   ]
  },
  {
   "cell_type": "markdown",
   "metadata": {},
   "source": [
    "x* = [9.95363201e+03 1.01337667e-01 4.91061735e+00]\n",
    "cost = 59853909.546741776\n",
    "||grad|| = 4.239855243836292\n",
    "message = `ftol` termination condition is satisfied.\n",
    "success = True\n",
    "nfev = 211"
   ]
  },
  {
   "cell_type": "markdown",
   "metadata": {},
   "source": [
    "## **2.4.**\n",
    "Grafique los datos y la curva del modelo usando los valores del punto inicial\n",
    "   $\\mathbf{z}_0$ y del punto $\\mathbf{z}_k$ que devuelve el algoritmo, como lo hicieron en \n",
    "   la ayudantía."
   ]
  },
  {
   "cell_type": "code",
   "execution_count": 15,
   "metadata": {},
   "outputs": [
    {
     "data": {
      "image/png": "[encoded data removed]",
      "text/plain": [
       "<Figure size 640x480 with 1 Axes>"
      ]
     },
     "metadata": {},
     "output_type": "display_data"
    }
   ],
   "source": [
    "plt.plot(T, Y, 'o', markersize = 2, color = 'black')\n",
    "plt.plot(T, fnc_h(T, *z0), 'blue', label = 'Parámetros $z_0$')\n",
    "plt.plot(T, fnc_h(T, *zk), linewidth = 2, color = 'red', label = 'Parámetros $z_k$')\n",
    "plt.legend()\n",
    "plt.title('Curva del modelo.')\n",
    "plt.show()"
   ]
  }
 ],
 "metadata": {
  "kernelspec": {
   "display_name": "Python 3",
   "language": "python",
   "name": "python3"
  },
  "language_info": {
   "codemirror_mode": {
    "name": "ipython",
    "version": 3
   },
   "file_extension": ".py",
   "mimetype": "text/x-python",
   "name": "python",
   "nbconvert_exporter": "python",
   "pygments_lexer": "ipython3",
   "version": "3.11.9"
  }
 },
 "nbformat": 4,
 "nbformat_minor": 2
}
